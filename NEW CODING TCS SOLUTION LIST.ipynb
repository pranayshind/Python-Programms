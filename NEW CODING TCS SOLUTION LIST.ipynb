{
 "cells": [
  {
   "cell_type": "code",
   "execution_count": 5,
   "id": "2c3966c0",
   "metadata": {},
   "outputs": [
    {
     "name": "stdout",
     "output_type": "stream",
     "text": [
      "2\n"
     ]
    }
   ],
   "source": [
    "#5)\n",
    "l= ['abc', 'xyz', 'aba', '1221']\n",
    "c=0\n",
    "for i in l:\n",
    "    if i[0]==i[-1]:\n",
    "        c=c+1\n",
    "print(c)"
   ]
  },
  {
   "cell_type": "code",
   "execution_count": 8,
   "id": "1c585756",
   "metadata": {},
   "outputs": [
    {
     "name": "stdout",
     "output_type": "stream",
     "text": [
      "[(2, 1), (1, 2), (2, 3), (4, 4), (2, 5)]\n"
     ]
    }
   ],
   "source": [
    "#6)\n",
    "l=[(2, 5), (1, 2), (4, 4), (2, 3), (2, 1)]\n",
    "l.sort(key=lambda X:X[1])\n",
    "print(l)"
   ]
  },
  {
   "cell_type": "code",
   "execution_count": 9,
   "id": "256219b7",
   "metadata": {},
   "outputs": [
    {
     "name": "stdout",
     "output_type": "stream",
     "text": [
      "['a', 'b', 'Ff']\n"
     ]
    }
   ],
   "source": [
    "#7)\n",
    "l=[\"a\",\"b\",\"Ff\",\"a\"]\n",
    "l1=[]\n",
    "for i in l:\n",
    "    if i not in l1:\n",
    "        l1.append(i)\n",
    "print(l1)\n",
    "    "
   ]
  },
  {
   "cell_type": "code",
   "execution_count": 10,
   "id": "ae90fc12",
   "metadata": {},
   "outputs": [
    {
     "name": "stdout",
     "output_type": "stream",
     "text": [
      "not empty list\n"
     ]
    }
   ],
   "source": [
    "#8)\n",
    "l=[\"a\",\"f\"]\n",
    "if l==[]:\n",
    "    print(\"empty list\")\n",
    "else:\n",
    "    print(\"not empty list\")"
   ]
  },
  {
   "cell_type": "code",
   "execution_count": 11,
   "id": "7cc4bcc0",
   "metadata": {},
   "outputs": [
    {
     "name": "stdout",
     "output_type": "stream",
     "text": [
      "['s', 'ff']\n"
     ]
    }
   ],
   "source": [
    "#9)\n",
    "l=[\"s\",\"ff\"]\n",
    "l1=l.copy()\n",
    "print(l1)"
   ]
  },
  {
   "cell_type": "code",
   "execution_count": null,
   "id": "d8d1d0ed",
   "metadata": {},
   "outputs": [],
   "source": [
    "#10)\n"
   ]
  },
  {
   "cell_type": "code",
   "execution_count": 16,
   "id": "6c79a1f6",
   "metadata": {},
   "outputs": [
    {
     "data": {
      "text/plain": [
       "False"
      ]
     },
     "execution_count": 16,
     "metadata": {},
     "output_type": "execute_result"
    }
   ],
   "source": [
    "#11)\n",
    "def common(l1,l2):\n",
    "    flag=0\n",
    "    for i in l1 and l2:\n",
    "        if i in l1 and l2:\n",
    "            flag=1\n",
    "    if flag==1:\n",
    "        return True\n",
    "    elif flag==0:\n",
    "        return False\n",
    "    \n",
    "l1=[\"ab\",\"c\",\"l\"]\n",
    "l2=[\"ckmc\",\"d\"]\n",
    "common(l1,l2)\n",
    "            "
   ]
  },
  {
   "cell_type": "code",
   "execution_count": 21,
   "id": "7997f60d",
   "metadata": {},
   "outputs": [
    {
     "name": "stdout",
     "output_type": "stream",
     "text": [
      "['Green', 'White', 'Black']\n"
     ]
    }
   ],
   "source": [
    "#12)\n",
    "l=['Red', 'Green', 'White', 'Black', 'Pink', 'Yellow']\n",
    "a=l[0]\n",
    "b=l[4]\n",
    "c=l[5]\n",
    "l.remove(a)\n",
    "l.remove(b)\n",
    "l.remove(c)\n",
    "\n",
    "print(l)\n",
    "\n"
   ]
  },
  {
   "cell_type": "code",
   "execution_count": 22,
   "id": "5cfadc48",
   "metadata": {},
   "outputs": [
    {
     "name": "stdout",
     "output_type": "stream",
     "text": [
      "[3, 6, 9, 11]\n"
     ]
    }
   ],
   "source": [
    "#14)\n",
    "l=[3,4,6,8,9,11]\n",
    "for i in l:\n",
    "    if i%2==0:\n",
    "        l.remove(i)\n",
    "print(l)"
   ]
  },
  {
   "cell_type": "code",
   "execution_count": 11,
   "id": "6134dbd6",
   "metadata": {},
   "outputs": [
    {
     "data": {
      "text/plain": [
       "True"
      ]
     },
     "execution_count": 11,
     "metadata": {},
     "output_type": "execute_result"
    }
   ],
   "source": [
    "#17)\n",
    "def prime():\n",
    "    l=[3, 5, 7, 13]\n",
    "    flag=0\n",
    "    for i in l:\n",
    "        if i==0 or i==1:\n",
    "            flag=1\n",
    "        for j in range(2,i):\n",
    "            if i%j==0:\n",
    "                flag=1\n",
    "    if flag==1:\n",
    "        return False\n",
    "    else:\n",
    "        return True\n",
    "prime()"
   ]
  },
  {
   "cell_type": "code",
   "execution_count": 13,
   "id": "a6a8f558",
   "metadata": {},
   "outputs": [
    {
     "name": "stdout",
     "output_type": "stream",
     "text": [
      "2\n"
     ]
    }
   ],
   "source": [
    "#27)\n",
    "l=[4,2,8,5,1,3]\n",
    "l.sort()\n",
    "print(l[1])\n"
   ]
  },
  {
   "cell_type": "code",
   "execution_count": 15,
   "id": "09d451f2",
   "metadata": {},
   "outputs": [
    {
     "name": "stdout",
     "output_type": "stream",
     "text": [
      "5\n"
     ]
    }
   ],
   "source": [
    "#28)\n",
    "l=[4,2,8,5,1,3]\n",
    "l.sort()\n",
    "print(l[-2])"
   ]
  },
  {
   "cell_type": "code",
   "execution_count": 17,
   "id": "3a4937a7",
   "metadata": {},
   "outputs": [
    {
     "name": "stdout",
     "output_type": "stream",
     "text": [
      "[4, 2, 8, 5, 1, 3]\n"
     ]
    }
   ],
   "source": [
    "#29)\n",
    "l=[4,2,8,5,1,3,4,2,8,5,1,3]\n",
    "l1=[]\n",
    "for i in l:\n",
    "    if i not in l1:\n",
    "        l1.append(i)\n",
    "print(l1)"
   ]
  },
  {
   "cell_type": "code",
   "execution_count": 27,
   "id": "d210670e",
   "metadata": {},
   "outputs": [
    {
     "name": "stdout",
     "output_type": "stream",
     "text": [
      "4 = 2\n",
      "2 = 2\n",
      "8 = 2\n",
      "5 = 2\n",
      "1 = 2\n",
      "3 = 2\n"
     ]
    }
   ],
   "source": [
    "#30)\n",
    "l=[4,2,8,5,1,3,4,2,8,5,1,3]\n",
    "d={}\n",
    "for i in l:\n",
    "    d[i]=l.count(i)\n",
    "for k,v in d.items():\n",
    "    print(k,\"=\",v)\n"
   ]
  },
  {
   "cell_type": "code",
   "execution_count": 3,
   "id": "5e983153",
   "metadata": {},
   "outputs": [
    {
     "name": "stdout",
     "output_type": "stream",
     "text": [
      "1\n",
      "4\n",
      "8\n"
     ]
    }
   ],
   "source": [
    "#31)\n",
    "l=[4,2,8,5,1,3,4,2,8,5,1,3]\n",
    "c=0\n",
    "n=int(input())\n",
    "n1=int(input())\n",
    "for i in l:\n",
    "    if i>=n and i<=n1:\n",
    "        c=c+1\n",
    "print(c)\n",
    "    "
   ]
  },
  {
   "cell_type": "code",
   "execution_count": 19,
   "id": "7f45c17b",
   "metadata": {},
   "outputs": [
    {
     "name": "stdout",
     "output_type": "stream",
     "text": [
      "['p1', 'p2', 'p3', 'p4', 'p5', 'q1', 'q2', 'q3', 'q4', 'q5']\n"
     ]
    }
   ],
   "source": [
    "#35)\n",
    "l=['p', 'q']\n",
    "n = 5\n",
    "l1=[]\n",
    "l2=[]\n",
    "for i in range(1,n+1):\n",
    "    l1.append(str(i))\n",
    "for j in l:\n",
    "    for k in l1:\n",
    "        l2.append(j+k)\n",
    "print(l2)\n",
    "    \n"
   ]
  },
  {
   "cell_type": "code",
   "execution_count": null,
   "id": "86851c4c",
   "metadata": {},
   "outputs": [],
   "source": [
    "#37)\n",
    "l=[4,2,8,5,1,3,4,2,8,5,1,3]\n",
    "l1=[4,2,8,5,1]\n",
    "l2=[]\n",
    "for i in l"
   ]
  }
 ],
 "metadata": {
  "kernelspec": {
   "display_name": "Python 3 (ipykernel)",
   "language": "python",
   "name": "python3"
  },
  "language_info": {
   "codemirror_mode": {
    "name": "ipython",
    "version": 3
   },
   "file_extension": ".py",
   "mimetype": "text/x-python",
   "name": "python",
   "nbconvert_exporter": "python",
   "pygments_lexer": "ipython3",
   "version": "3.9.7"
  }
 },
 "nbformat": 4,
 "nbformat_minor": 5
}
