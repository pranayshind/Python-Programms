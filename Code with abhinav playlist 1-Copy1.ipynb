{
 "cells": [
  {
   "cell_type": "code",
   "execution_count": null,
   "id": "55fe8261",
   "metadata": {},
   "outputs": [],
   "source": []
  },
  {
   "cell_type": "code",
   "execution_count": null,
   "id": "40aabb27",
   "metadata": {},
   "outputs": [],
   "source": [
    "#1)count repeated character in string"
   ]
  },
  {
   "cell_type": "code",
   "execution_count": 1,
   "id": "7855fc31",
   "metadata": {},
   "outputs": [
    {
     "name": "stdout",
     "output_type": "stream",
     "text": [
      "thequickbrownfoxjumpsoverthelazydog\n",
      "o 4\n",
      "e 3\n",
      "t 2\n",
      "h 2\n",
      "u 2\n",
      "r 2\n"
     ]
    }
   ],
   "source": [
    "def count_repaeted_char(s):\n",
    "    d={}\n",
    "    for i in s:\n",
    "        a=s.count(i)\n",
    "        if i.isalpha() and a>1:\n",
    "            d[i]=a\n",
    "        \n",
    "    dd=sorted(d.items(), key=lambda x:x[1], reverse=True)\n",
    "    for k,v in dd:\n",
    "        print(k,v)\n",
    "\n",
    "s=input()\n",
    "count_repaeted_char(s)"
   ]
  },
  {
   "cell_type": "code",
   "execution_count": null,
   "id": "b12985b2",
   "metadata": {},
   "outputs": [],
   "source": []
  },
  {
   "cell_type": "code",
   "execution_count": null,
   "id": "954d7f86",
   "metadata": {},
   "outputs": [],
   "source": [
    "#2)identify given number is perfect square or not"
   ]
  },
  {
   "cell_type": "code",
   "execution_count": 2,
   "id": "20ca31d4",
   "metadata": {},
   "outputs": [
    {
     "name": "stdout",
     "output_type": "stream",
     "text": [
      "9\n",
      "True\n"
     ]
    }
   ],
   "source": [
    "def per_sq(s):\n",
    "    flag=0\n",
    "    for i in range(2,s):\n",
    "        if s%i==0 and i*i==s:\n",
    "            flag=1\n",
    "        \n",
    "            \n",
    "    if flag==1:\n",
    "        print(\"True\")\n",
    "    else:\n",
    "        print(\"False\")\n",
    "        \n",
    "            \n",
    "s=int(input())\n",
    "per_sq(s)"
   ]
  },
  {
   "cell_type": "code",
   "execution_count": 22,
   "id": "82458349",
   "metadata": {},
   "outputs": [
    {
     "name": "stdout",
     "output_type": "stream",
     "text": [
      "9\n",
      "True\n"
     ]
    }
   ],
   "source": [
    "n=int(input())\n",
    "sqrt=n**0.5\n",
    "if sqrt==int(sqrt):\n",
    "    print(\"True\")\n",
    "else:\n",
    "    print(\"False\")"
   ]
  },
  {
   "cell_type": "code",
   "execution_count": 20,
   "id": "73c04c36",
   "metadata": {},
   "outputs": [
    {
     "data": {
      "text/plain": [
       "5.0"
      ]
     },
     "execution_count": 20,
     "metadata": {},
     "output_type": "execute_result"
    }
   ],
   "source": [
    "25**0.5\n"
   ]
  },
  {
   "cell_type": "code",
   "execution_count": null,
   "id": "d066a6c5",
   "metadata": {},
   "outputs": [],
   "source": []
  },
  {
   "cell_type": "code",
   "execution_count": null,
   "id": "30d79139",
   "metadata": {},
   "outputs": [],
   "source": [
    "#3)factorial"
   ]
  },
  {
   "cell_type": "code",
   "execution_count": 23,
   "id": "57d3fcf0",
   "metadata": {},
   "outputs": [
    {
     "name": "stdout",
     "output_type": "stream",
     "text": [
      "4\n",
      "24\n"
     ]
    }
   ],
   "source": [
    "n=int(input())\n",
    "c=1\n",
    "if n==0 or  n==1:\n",
    "    print(1)\n",
    "else:\n",
    "    for i in range(1,n+1):\n",
    "        c=c*i\n",
    "    \n",
    "print(c) "
   ]
  },
  {
   "cell_type": "code",
   "execution_count": null,
   "id": "aaf5ff59",
   "metadata": {},
   "outputs": [],
   "source": []
  },
  {
   "cell_type": "code",
   "execution_count": null,
   "id": "378a4d37",
   "metadata": {},
   "outputs": [],
   "source": []
  },
  {
   "cell_type": "code",
   "execution_count": null,
   "id": "8482f022",
   "metadata": {},
   "outputs": [],
   "source": []
  }
 ],
 "metadata": {
  "kernelspec": {
   "display_name": "Python 3 (ipykernel)",
   "language": "python",
   "name": "python3"
  },
  "language_info": {
   "codemirror_mode": {
    "name": "ipython",
    "version": 3
   },
   "file_extension": ".py",
   "mimetype": "text/x-python",
   "name": "python",
   "nbconvert_exporter": "python",
   "pygments_lexer": "ipython3",
   "version": "3.9.7"
  }
 },
 "nbformat": 4,
 "nbformat_minor": 5
}
